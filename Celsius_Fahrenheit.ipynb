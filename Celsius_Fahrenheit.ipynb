{
 "cells": [
  {
   "cell_type": "code",
   "execution_count": 1,
   "metadata": {},
   "outputs": [
    {
     "name": "stdout",
     "output_type": "stream",
     "text": [
      "22°C is equal to 71.60°F\n",
      "46°C is equal to 114.80°F\n",
      "51°C is equal to 123.80°F\n",
      "76°C is equal to 168.80°F\n"
     ]
    }
   ],
   "source": [
    "def celsius_to_fahrenheit(celsius):\n",
    "    \"\"\"\n",
    "    This function converts celsius to fahrenheit\n",
    "    \n",
    "    Formula used fopr conversion: F = (9/5 * C) + 32\n",
    "    \"\"\"\n",
    "    fahrenheit = (9/5 * celsius) + 32\n",
    "    return fahrenheit\n",
    "\n",
    "#Define a lsit of Celsius values\n",
    "values = [22, 46, 51, 76]\n",
    "\n",
    "#For loop to convert the above list\n",
    "for celsius in values:\n",
    "    fahrenheit = celsius_to_fahrenheit(celsius)\n",
    "    print(f\"{celsius}°C is equal to {fahrenheit:.2f}°F\")"
   ]
  }
 ],
 "metadata": {
  "kernelspec": {
   "display_name": "Python 3",
   "language": "python",
   "name": "python3"
  },
  "language_info": {
   "codemirror_mode": {
    "name": "ipython",
    "version": 3
   },
   "file_extension": ".py",
   "mimetype": "text/x-python",
   "name": "python",
   "nbconvert_exporter": "python",
   "pygments_lexer": "ipython3",
   "version": "3.10.15"
  }
 },
 "nbformat": 4,
 "nbformat_minor": 2
}
