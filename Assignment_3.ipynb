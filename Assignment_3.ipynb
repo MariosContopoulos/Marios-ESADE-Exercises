{
  "cells": [
    {
      "cell_type": "markdown",
      "id": "24b98369-c7ba-450b-a8b5-e34319000695",
      "metadata": {
        "editable": true,
        "id": "24b98369-c7ba-450b-a8b5-e34319000695",
        "tags": []
      },
      "source": [
        "# Python for Data Science\n",
        "## Session 3\n",
        "### Object Oriented Programming"
      ]
    },
    {
      "cell_type": "markdown",
      "id": "3ace1343-d73d-466d-aa07-56febbb7cbf1",
      "metadata": {
        "editable": true,
        "id": "3ace1343-d73d-466d-aa07-56febbb7cbf1",
        "tags": []
      },
      "source": [
        "---"
      ]
    },
    {
      "cell_type": "markdown",
      "id": "c5ffee69-5d4d-4f1c-9ed7-083afbc931ec",
      "metadata": {
        "editable": true,
        "id": "c5ffee69-5d4d-4f1c-9ed7-083afbc931ec",
        "tags": []
      },
      "source": [
        "## Outline\n",
        "1. Classes and objects\n",
        "2. Abstraction and Inheritance\n",
        "3. Polymorphism and Encapsulation"
      ]
    },
    {
      "cell_type": "markdown",
      "id": "aba315f4-e9bf-4a66-b3d3-593037c3ca70",
      "metadata": {
        "editable": true,
        "id": "aba315f4-e9bf-4a66-b3d3-593037c3ca70",
        "tags": []
      },
      "source": [
        "---"
      ]
    },
    {
      "cell_type": "markdown",
      "id": "8ed45dcb-2cf5-4bfa-ba6e-5da25c59757c",
      "metadata": {
        "editable": true,
        "id": "8ed45dcb-2cf5-4bfa-ba6e-5da25c59757c",
        "tags": []
      },
      "source": [
        "## Object Oriented programming\n",
        "\n",
        "In Data science there are three different types of programming paradigms:\n",
        "\n",
        "1. **Object-oriented programming** organizes code using objects that represent real-world entities. It provides modularity, code reuse and abstraction, making it suitable for handling large and complex applications.\n",
        "\n",
        "2. **Functional programming** emphasizes the use of **pure functions** that can be easily composed and reused, ideal for transforming data.\n",
        "\n",
        "3. **Declarative programming** consists in specifyin what the program should accomplish, rather than how to accomplish it.\n",
        "\n"
      ]
    },
    {
      "cell_type": "markdown",
      "id": "42f9f227-0941-4967-9a4b-c282bb0e4cfc",
      "metadata": {
        "editable": true,
        "id": "42f9f227-0941-4967-9a4b-c282bb0e4cfc",
        "tags": []
      },
      "source": [
        "**Pure functions** are functions that always produce the same output for the same input and haven't got any side effects, meaning it does not modify external states or variables."
      ]
    },
    {
      "cell_type": "markdown",
      "id": "00b01ced-eda7-423f-8522-96bd3f1a4125",
      "metadata": {
        "editable": true,
        "id": "00b01ced-eda7-423f-8522-96bd3f1a4125",
        "tags": []
      },
      "source": [
        "---"
      ]
    },
    {
      "cell_type": "markdown",
      "id": "9434c993-aac1-4655-bf69-477b9dc5d2ee",
      "metadata": {
        "editable": true,
        "id": "9434c993-aac1-4655-bf69-477b9dc5d2ee",
        "tags": []
      },
      "source": [
        "## Object Oriented programming\n",
        "\n",
        "OOP main concepts are:\n",
        "\n",
        "1. **Class**: A template to create objects.\n",
        "2. **Object**: An instance of a class, representing a specific entity.\n",
        "3. **Attributes**: Properties of an object (variables within a class that define it).\n",
        "4. **Methods**: Actions that objects can perform (functions within a class)."
      ]
    },
    {
      "cell_type": "code",
      "execution_count": 57,
      "id": "1e350f15-ae19-4323-a1c6-25d80118a5f3",
      "metadata": {
        "editable": true,
        "id": "1e350f15-ae19-4323-a1c6-25d80118a5f3",
        "tags": []
      },
      "outputs": [],
      "source": [
        "class Pet:\n",
        "    pass  # Empty class as a placeholder"
      ]
    },
    {
      "cell_type": "code",
      "execution_count": 58,
      "id": "2e427c6d-a0fc-47de-a6e8-de71ae500619",
      "metadata": {
        "editable": true,
        "id": "2e427c6d-a0fc-47de-a6e8-de71ae500619",
        "tags": []
      },
      "outputs": [],
      "source": [
        "my_pet = Pet() # Instance of a class"
      ]
    },
    {
      "cell_type": "code",
      "execution_count": 59,
      "id": "1cda9d57-aedb-4e70-af5b-7193174a2430",
      "metadata": {
        "editable": true,
        "id": "1cda9d57-aedb-4e70-af5b-7193174a2430",
        "tags": []
      },
      "outputs": [],
      "source": [
        "# Note: self refers to the instance of the class and is used to access its attributes and methods\n",
        "class Pet:\n",
        "    def __init__(self, name): # constructor\n",
        "        self.name = name"
      ]
    },
    {
      "cell_type": "code",
      "execution_count": 60,
      "id": "c4f13ca9-dd0a-4b53-8f30-5a507979b1ed",
      "metadata": {
        "editable": true,
        "id": "c4f13ca9-dd0a-4b53-8f30-5a507979b1ed",
        "tags": []
      },
      "outputs": [],
      "source": [
        "class Pet:\n",
        "    def __init__(self, name): # constructor\n",
        "        self.name = name # Instance attribute\n",
        "        self.age = None # Instance attribute set to None\n",
        "\n",
        "    def set_age(self, age): # Method\n",
        "        self.age = age"
      ]
    },
    {
      "cell_type": "markdown",
      "id": "92887f1e-c2b9-4abc-9324-af4c15250c3a",
      "metadata": {
        "editable": true,
        "id": "92887f1e-c2b9-4abc-9324-af4c15250c3a",
        "tags": []
      },
      "source": [
        "---"
      ]
    },
    {
      "cell_type": "markdown",
      "id": "d6c81e01-e268-4490-b970-b9f3d7a08d30",
      "metadata": {
        "editable": true,
        "id": "d6c81e01-e268-4490-b970-b9f3d7a08d30",
        "tags": []
      },
      "source": [
        "## Object Oriented programming\n",
        "### Abstraction\n",
        "\n",
        "Abstraction consists in hiding any variables and internal parts of an object that don’t need to be shown during interaction. Making only available the essential functionalities.\n",
        "\n",
        "You may want to call a method from an object that searches for something in an internal list, and in this case, you don't need to see the algorithm behind it, you just need to call the method and get what you want."
      ]
    },
    {
      "cell_type": "markdown",
      "id": "23e1e6b4-322a-4cd5-8a82-72877cc98804",
      "metadata": {
        "editable": true,
        "id": "23e1e6b4-322a-4cd5-8a82-72877cc98804",
        "tags": []
      },
      "source": [
        "## Object Oriented programming\n",
        "### Inheritance\n",
        "\n",
        "Inheritance permits any class to inherit attributes and methods from another class. This reduces code duplication and enables the creation of specialized classes based on general ones."
      ]
    },
    {
      "cell_type": "code",
      "execution_count": 61,
      "id": "76c58110-a965-432f-8dcf-f457079fec65",
      "metadata": {
        "editable": true,
        "id": "76c58110-a965-432f-8dcf-f457079fec65",
        "tags": []
      },
      "outputs": [],
      "source": [
        "class Pet:\n",
        "    def __init__(self, age, name): # Constructor\n",
        "        self.age = age # Attribute\n",
        "        self.name = name # Attribute\n",
        "\n",
        "    def describe(self): # Method\n",
        "        print(f\"This pet's name is {self.name}.\")\n",
        "\n",
        "class Dog(Pet):\n",
        "    def __init__(self, age, name, breed): # Constructor\n",
        "        super().__init__(age, name)  # Call the parent class's __init__ method\n",
        "        self.breed = breed # New attribute for this specialized class\n",
        "\n",
        "    def describe(self):\n",
        "        super().describe()  # Call the parent class's describe method\n",
        "        print(f\"This dog is {self.age} years old and is a {self.breed}.\")"
      ]
    },
    {
      "cell_type": "code",
      "execution_count": 62,
      "id": "48301f74-ece3-49ec-9332-2c168743ebc8",
      "metadata": {
        "editable": true,
        "id": "48301f74-ece3-49ec-9332-2c168743ebc8",
        "tags": []
      },
      "outputs": [],
      "source": [
        "my_dog = Dog(3, 'Rock', 'Great Dane')"
      ]
    },
    {
      "cell_type": "code",
      "execution_count": 63,
      "id": "eae7678f-665a-4916-96d2-3926a312aea5",
      "metadata": {
        "editable": true,
        "id": "eae7678f-665a-4916-96d2-3926a312aea5",
        "outputId": "3abb92a2-d911-43f9-bf4b-bb7ecdaf371f",
        "tags": []
      },
      "outputs": [
        {
          "name": "stdout",
          "output_type": "stream",
          "text": [
            "This pet's name is Rock.\n",
            "This dog is 3 years old and is a Great Dane.\n"
          ]
        }
      ],
      "source": [
        "my_dog.describe()"
      ]
    },
    {
      "cell_type": "markdown",
      "id": "220f9368-0c1a-4ac8-9785-a33b11e5df77",
      "metadata": {
        "editable": true,
        "id": "220f9368-0c1a-4ac8-9785-a33b11e5df77",
        "tags": []
      },
      "source": [
        "---"
      ]
    },
    {
      "cell_type": "markdown",
      "id": "88ff8053-d1d0-4c08-b8e5-6c84e94c4f24",
      "metadata": {
        "editable": true,
        "id": "88ff8053-d1d0-4c08-b8e5-6c84e94c4f24",
        "tags": []
      },
      "source": [
        "## Object Oriented programming\n",
        "### Polymorphism\n",
        "\n",
        "It allows the same method name to behave differently based on the object calling it, which can be achieved through method overriding."
      ]
    },
    {
      "cell_type": "code",
      "execution_count": 64,
      "id": "db4cd9e2-0188-4511-a81b-070221d74af5",
      "metadata": {
        "editable": true,
        "id": "db4cd9e2-0188-4511-a81b-070221d74af5",
        "tags": []
      },
      "outputs": [],
      "source": [
        "class Cat(Pet):\n",
        "    def __init__(self, age, name, breed): # Constructor\n",
        "        super().__init__(age, name)  # Call the parent class's __init__ method\n",
        "        self.breed = breed # New attribute for this specialized class\n",
        "\n",
        "    def describe(self): # Method\n",
        "        print(f\"This super cat is {self.age} years old and is a {self.breed}.\")"
      ]
    },
    {
      "cell_type": "code",
      "execution_count": 65,
      "id": "ced1143b-98db-46db-8e90-fed185aad835",
      "metadata": {
        "editable": true,
        "id": "ced1143b-98db-46db-8e90-fed185aad835",
        "outputId": "3c3d99c3-5191-40d9-a25c-9d4516c6ca93",
        "tags": []
      },
      "outputs": [
        {
          "name": "stdout",
          "output_type": "stream",
          "text": [
            "This super cat is 7 years old and is a Siamese.\n"
          ]
        }
      ],
      "source": [
        "my_cat = Cat(7, 'Bella', 'Siamese')\n",
        "my_cat.describe()"
      ]
    },
    {
      "cell_type": "markdown",
      "id": "cd327548-f048-4d39-9b72-6dff6cd6963d",
      "metadata": {
        "editable": true,
        "id": "cd327548-f048-4d39-9b72-6dff6cd6963d",
        "tags": []
      },
      "source": [
        "---"
      ]
    },
    {
      "cell_type": "markdown",
      "id": "854b31bb-2b21-42fd-939a-f82f71a549f0",
      "metadata": {
        "editable": true,
        "id": "854b31bb-2b21-42fd-939a-f82f71a549f0",
        "tags": []
      },
      "source": [
        "## Object Oriented programming\n",
        "### Encapsulation\n",
        "\n",
        "It consists in restricting access to variables and methods outside the object. This way we ensure the integrity of the data within the object.\n",
        "\n",
        "In python, prefixing a variable or method name with an underscore **_** indicates that it is intended for internal use only, while a double underscore **__** modifies the variable name for better encapsulation.\n",
        "\n",
        "It is worth mentioning that this is a convention, and variables and methods are still accessible."
      ]
    },
    {
      "cell_type": "code",
      "execution_count": 66,
      "id": "33e1bdf2-8798-41f1-9ed3-957c730dc9ad",
      "metadata": {
        "editable": true,
        "id": "33e1bdf2-8798-41f1-9ed3-957c730dc9ad",
        "tags": []
      },
      "outputs": [],
      "source": [
        "class Student:\n",
        "    def __init__(self, name, age, address=None):\n",
        "        self.name = name # Public attribute\n",
        "        self._age =   age # Private attribute\n",
        "        self._address = address  # Private attribute\n",
        "\n",
        "    def get_address(self): # Method\n",
        "        return self._address\n",
        "\n",
        "    def set_address(self, address): # Method\n",
        "        address = ''.join(filter(self._remove_special_characters, address))\n",
        "        self._address = address\n",
        "\n",
        "    def _remove_special_characters(self, character): # Private method\n",
        "        if character.isalnum() or character == ' ' or character == '-':\n",
        "            return True\n",
        "        else:\n",
        "            return False\n"
      ]
    },
    {
      "cell_type": "code",
      "execution_count": 67,
      "id": "a4e46c71-63e9-474e-91a6-9d9a323636dc",
      "metadata": {
        "editable": true,
        "id": "a4e46c71-63e9-474e-91a6-9d9a323636dc",
        "outputId": "f3fdcc29-3661-46e6-e645-397a94c9874c",
        "tags": []
      },
      "outputs": [
        {
          "name": "stdout",
          "output_type": "stream",
          "text": [
            "The student named Joan has the following address: Avinguda Buenos Aires nº 31 7e-1a\n"
          ]
        }
      ],
      "source": [
        "student = Student(\"Joan\", 24)\n",
        "student.set_address(\"Avinguda Buenos Aires nº 31! 7e-1a\")\n",
        "print(f\"The student named {student.name} has the following address: {student.get_address()}\")"
      ]
    },
    {
      "cell_type": "markdown",
      "id": "f4552012-e0e9-40af-8801-69d83733d433",
      "metadata": {
        "editable": true,
        "id": "f4552012-e0e9-40af-8801-69d83733d433",
        "tags": []
      },
      "source": [
        "---"
      ]
    },
    {
      "cell_type": "markdown",
      "id": "42f8be9a-cc71-4a58-97ac-1a54219a2d72",
      "metadata": {
        "editable": true,
        "id": "42f8be9a-cc71-4a58-97ac-1a54219a2d72",
        "tags": []
      },
      "source": [
        "## Object Oriented programming\n",
        "### Hands on\n",
        "\n",
        "Let's design a course registration system, where the requirements will be:\n",
        "\n",
        "1. Create a **Course** class, where each course has a name, a description and a list of enrolled students. You'll need to implement the next methods:\n",
        "    - Add a student to the course.\n",
        "    - Remove a student from the course.\n",
        "    - Show all students in the course."
      ]
    },
    {
      "cell_type": "code",
      "execution_count": 68,
      "id": "e5430dcf-a01a-4ea1-aff8-5bad4531ab1e",
      "metadata": {
        "editable": true,
        "id": "e5430dcf-a01a-4ea1-aff8-5bad4531ab1e",
        "tags": []
      },
      "outputs": [
        {
          "name": "stdout",
          "output_type": "stream",
          "text": [
            "Marios has been added to Maths.\n",
            "George has been added to Maths.\n",
            "Marios has been removed from Maths.\n",
            "Students in Maths:\n",
            "- George\n"
          ]
        }
      ],
      "source": [
        "class Course:\n",
        "    def __init__(self, name, description):\n",
        "        # When you make a new course, it'll have a name, a description, and an empty student list\n",
        "        self.name = name\n",
        "        self.description = description\n",
        "        self.students = []\n",
        "\n",
        "    def add_student(self, student):\n",
        "        \"\"\"\n",
        "        Adds a student to the course unless they are already enroleled.\n",
        "        \n",
        "        \"\"\"\n",
        "        if student not in self.students:\n",
        "            self.students.append(student)\n",
        "            print(f\"{student} has been added to {self.name}.\") # Student successfully added to the class\n",
        "        else:\n",
        "            print(f\"{student} is already enrolled in {self.name}.\")  # Student already in the class\n",
        "\n",
        "    def remove_student(self, student):\n",
        "        \"\"\"\n",
        "        Removes a student, but only if they are enrolled for the class.\n",
        "        \n",
        "        \"\"\"\n",
        "        if student in self.students:\n",
        "            self.students.remove(student)\n",
        "            print(f\"{student} has been removed from {self.name}.\") # Student successfully removed from class\n",
        "        else:\n",
        "            print(f\"{student} isn't enrolled in {self.name} class\") # Student not in class\n",
        "                  \n",
        "    def show_students(self):\n",
        "        \"\"\"\n",
        "        Shows all the students in the course or says if it is empty.\n",
        "        \n",
        "        \"\"\"\n",
        "        if self.students:\n",
        "            print(f\"Students in {self.name}:\")\n",
        "            # Loop through students in course\n",
        "            for student in self.students:\n",
        "                print(f\"- {student}\")\n",
        "        else:\n",
        "            print(f\"No student for {self.name} yet\")  # List is empty\n",
        "\n",
        "mathematics=Course(\"Maths\",\"Algebra for dummies\")\n",
        "physics=Course(\"Physics\",\"Physics for Einstein\")\n",
        "mathematics.add_student(\"Marios\")\n",
        "mathematics.add_student(\"George\")\n",
        "mathematics.remove_student(\"Marios\")\n",
        "mathematics.show_students()"
      ]
    },
    {
      "cell_type": "markdown",
      "id": "16cc578c-9fe3-4478-81da-3071e3adb318",
      "metadata": {
        "editable": true,
        "id": "16cc578c-9fe3-4478-81da-3071e3adb318",
        "tags": []
      },
      "source": [
        "## Object Oriented programming\n",
        "### Hands on\n",
        "\n",
        "2. Create a **Student** class, where each student has a name, ID number, address and a list of enrolled courses with the following methods:\n",
        "    - Enroll in a course.\n",
        "    - Drop a course.\n",
        "    - Show all registered student courses."
      ]
    },
    {
      "cell_type": "code",
      "execution_count": 69,
      "id": "fe4cce31-1ddf-4847-bc8d-924dc3e0dfe1",
      "metadata": {
        "editable": true,
        "id": "fe4cce31-1ddf-4847-bc8d-924dc3e0dfe1",
        "tags": []
      },
      "outputs": [
        {
          "name": "stdout",
          "output_type": "stream",
          "text": [
            "Marios has been added to Maths.\n",
            "Marios has enrolled in Maths.\n",
            "Marios has been added to Physics.\n",
            "Marios has enrolled in Physics.\n",
            "Marios is enrolled in the following courses:\n",
            "- Maths\n",
            "- Physics\n"
          ]
        }
      ],
      "source": [
        "class Student:\n",
        "    def __init__(self, name, student_id, address):\n",
        "        # When you create a new student, they'll have a name, ID, address, and an empty course list\n",
        "        self.name = name\n",
        "        self.student_id = student_id\n",
        "        self.address = address\n",
        "        self.courses = []\n",
        "\n",
        "    def enroll_in_course(self, course):\n",
        "        \"\"\"\n",
        "        Adds the course to the student's list if not already enrolled.\n",
        "        Also enrolls the student in the course.\n",
        "        \"\"\"\n",
        "        if course not in self.courses:\n",
        "            self.courses.append(course)  # Add course to available courses\n",
        "            course.add_student(self.name)  # Add student in the course\n",
        "            print(f\"{self.name} has enrolled in {course.name}.\") # Student successfully enrolled in the course\n",
        "\n",
        "        else:\n",
        "            print(f\"{self.name} is already enrolled in {course.name}.\")  # Student already enrolled in the course\n",
        "\n",
        "    def drop_course(self, course):\n",
        "        \"\"\"\n",
        "        Removes the course from the student's list if they are enrolled.\n",
        "        Also removes the student from the course.\n",
        "        \"\"\"\n",
        "        if course in self.courses:\n",
        "            self.courses.remove(course)  # Remove course from available list\n",
        "            course.remove_student(self.name)  # Remove student from the course\n",
        "            print(f\"{self.name} has dropped {course.name}.\")  # Student successfully removed from course\n",
        "        else:\n",
        "            print(f\"{self.name} isn't enrolled in {course.name}.\")  # Student does not exist in the course, so cannot be removed\n",
        "\n",
        "    def show_courses(self):\n",
        "        \"\"\"\n",
        "        Shows all courses the student is enrolled in or says if they aren't enrolled in any.\n",
        "        \"\"\"\n",
        "        if self.courses:\n",
        "            print(f\"{self.name} is enrolled in the following courses:\") # Lists the courses of the student\n",
        "            for course in self.courses:\n",
        "                print(f\"- {course.name}\")\n",
        "        else:\n",
        "            print(f\"{self.name} isn't enrolled in any courses.\") \n",
        "\n",
        "\n",
        "\n",
        "student1 = Student(\"Marios\", \"12345\", \"ESADE CAMPUS\")\n",
        "student1.enroll_in_course(mathematics)\n",
        "student1.enroll_in_course(physics)\n",
        "student1.show_courses()\n"
      ]
    },
    {
      "cell_type": "markdown",
      "id": "5c54b2fe-691f-4520-b8d6-2515ba92b808",
      "metadata": {
        "editable": true,
        "id": "5c54b2fe-691f-4520-b8d6-2515ba92b808",
        "tags": []
      },
      "source": [
        "## Object Oriented programming\n",
        "### Hands on\n",
        "\n",
        "3. Create a central class that manages courses and students, **Registration** class, where you have a list of students and a list of courses, and methods:\n",
        "    - Enroll in a course.\n",
        "    - Drop a course.\n",
        "    - Show all the enrolled courses.\n",
        "    - Show all the students."
      ]
    },
    {
      "cell_type": "code",
      "execution_count": 70,
      "id": "863f30c7-3cf8-4ac9-8599-e7df8e0d483c",
      "metadata": {
        "editable": true,
        "id": "863f30c7-3cf8-4ac9-8599-e7df8e0d483c",
        "tags": []
      },
      "outputs": [
        {
          "name": "stdout",
          "output_type": "stream",
          "text": [
            "Course Maths has been added.\n",
            "Course Physics has been added.\n",
            "Student Marios has been added.\n"
          ]
        }
      ],
      "source": [
        "class Registration:\n",
        "    def __init__(self):\n",
        "        # When you create a new Registration instance, it starts with empty lists for courses and students\n",
        "        self.students = []  # List to hold all registered students\n",
        "        self.courses = []   # List to hold all available courses\n",
        "\n",
        "    def enroll_student_in_course(self, student, course):\n",
        "        \"\"\"\n",
        "        Enrolls a student in a course by adding them to both the course's student list and the student's course list.\n",
        "        \"\"\"\n",
        "        if student not in self.students:\n",
        "            print(f\"{student.name} is not registered. Please register the student first.\") \n",
        "        elif course not in self.courses:\n",
        "            print(f\"{course.name} is not available. Please add the course first.\")\n",
        "        else:\n",
        "            student.enroll_in_course(course)  # Adds student in the course using the functions in previous exercise\n",
        "\n",
        "    def drop_student_from_course(self, student, course):\n",
        "        \"\"\"\n",
        "        Removes a student from a course and removes the course from the student's enrolled courses list.\n",
        "        \"\"\"\n",
        "        if student not in self.students:\n",
        "            print(f\"{student.name} is not registered. Cannot drop the student from any course.\")\n",
        "        elif course not in self.courses:\n",
        "            print(f\"{course.name} is not available.\")\n",
        "        else:\n",
        "            student.drop_course(course)  # Removes the student using th efunction from the previous exercise\n",
        "\n",
        "    def add_course(self, course):\n",
        "        \"\"\"\n",
        "        Adds a course to the list of available courses if it's not already in the list.\n",
        "        \"\"\"\n",
        "        if course not in self.courses:\n",
        "            self.courses.append(course)  # Add the course to the list of available courses\n",
        "            print(f\"Course {course.name} has been added.\")\n",
        "        else:\n",
        "            print(f\"Course {course.name} is already in the system.\")  # Course is already available\n",
        "\n",
        "    def add_student(self, student):\n",
        "        \"\"\"\n",
        "        Adds a student to the list of registered students if they are not already registered.\n",
        "        \"\"\"\n",
        "        if student not in self.students:\n",
        "            self.students.append(student)  # Add student to the list of registered students\n",
        "            print(f\"Student {student.name} has been added.\")\n",
        "        else:\n",
        "            print(f\"Student {student.name} is already registered.\")  # Student is already registered\n",
        "\n",
        "    def show_all_courses(self):\n",
        "        \"\"\"\n",
        "        Shows all available courses or says if there are no courses.\n",
        "        \"\"\"\n",
        "        if self.courses:\n",
        "            print(\"Available courses:\")\n",
        "            # Loop through each course in the list\n",
        "            for course in self.courses:\n",
        "                print(f\"- {course.name}: {course.description}\")\n",
        "        else:\n",
        "            print(\"No courses available.\")  # No courses have been added yet\n",
        "\n",
        "    def show_all_students(self):\n",
        "        \"\"\"\n",
        "        Shows all registered students or says if there are none.\n",
        "        \"\"\"\n",
        "        if self.students:\n",
        "            print(\"Registered students:\")\n",
        "            # Loop through each student in the list\n",
        "            for student in self.students:\n",
        "                print(f\"- {student.name} (ID: {student.student_id})\")\n",
        "        else:\n",
        "            print(\"No students registered.\")  # No students have been added yet\n",
        "\n",
        "registration=Registration()\n",
        "registration.add_course(mathematics)\n",
        "registration.add_course(physics)\n",
        "registration.show_all_courses\n",
        "registration.add_student(student1)"
      ]
    },
    {
      "cell_type": "markdown",
      "id": "2958b01b-3472-4c95-ae1f-771edc638749",
      "metadata": {
        "editable": true,
        "id": "2958b01b-3472-4c95-ae1f-771edc638749",
        "tags": []
      },
      "source": [
        "## Object Oriented programming\n",
        "### Howework\n",
        "\n",
        "4. Let's add grades to each student's course and create method that yields the GPA given a student name or ID."
      ]
    },
    {
      "cell_type": "code",
      "execution_count": 71,
      "id": "67a2c778",
      "metadata": {},
      "outputs": [
        {
          "ename": "AttributeError",
          "evalue": "'Student' object has no attribute 'grades'",
          "output_type": "error",
          "traceback": [
            "\u001b[0;31m---------------------------------------------------------------------------\u001b[0m",
            "\u001b[0;31mAttributeError\u001b[0m                            Traceback (most recent call last)",
            "Cell \u001b[0;32mIn[71], line 29\u001b[0m\n\u001b[1;32m     26\u001b[0m             \u001b[38;5;28mprint\u001b[39m(\u001b[38;5;124mf\u001b[39m\u001b[38;5;124m\"\u001b[39m\u001b[38;5;132;01m{\u001b[39;00mstudent\u001b[38;5;241m.\u001b[39mname\u001b[38;5;132;01m}\u001b[39;00m\u001b[38;5;124m has no grades to calculate GPA.\u001b[39m\u001b[38;5;124m\"\u001b[39m)\n\u001b[1;32m     27\u001b[0m             \u001b[38;5;28;01mreturn\u001b[39;00m \u001b[38;5;28;01mNone\u001b[39;00m\n\u001b[0;32m---> 29\u001b[0m grade1 \u001b[38;5;241m=\u001b[39m Grade(student1, mathematics, \u001b[38;5;241m85\u001b[39m)  \n\u001b[1;32m     30\u001b[0m grade2 \u001b[38;5;241m=\u001b[39m Grade(student1, physics, \u001b[38;5;241m90\u001b[39m)\n",
            "Cell \u001b[0;32mIn[71], line 6\u001b[0m, in \u001b[0;36mGrade.__init__\u001b[0;34m(self, student, course, grade_value)\u001b[0m\n\u001b[1;32m      4\u001b[0m \u001b[38;5;28mself\u001b[39m\u001b[38;5;241m.\u001b[39mcourse \u001b[38;5;241m=\u001b[39m course    \u001b[38;5;66;03m# The course for the grade\u001b[39;00m\n\u001b[1;32m      5\u001b[0m \u001b[38;5;28mself\u001b[39m\u001b[38;5;241m.\u001b[39mgrade_value \u001b[38;5;241m=\u001b[39m grade_value  \u001b[38;5;66;03m# The grade\u001b[39;00m\n\u001b[0;32m----> 6\u001b[0m \u001b[38;5;28mself\u001b[39m\u001b[38;5;241m.\u001b[39madd_grade(student, course, grade_value)\n",
            "Cell \u001b[0;32mIn[71], line 13\u001b[0m, in \u001b[0;36mGrade.add_grade\u001b[0;34m(self, student, course, grade_value)\u001b[0m\n\u001b[1;32m      9\u001b[0m \u001b[38;5;250m\u001b[39m\u001b[38;5;124;03m\"\"\"\u001b[39;00m\n\u001b[1;32m     10\u001b[0m \u001b[38;5;124;03mAdd grade to the student for a specific course\u001b[39;00m\n\u001b[1;32m     11\u001b[0m \u001b[38;5;124;03m\"\"\"\u001b[39;00m\n\u001b[1;32m     12\u001b[0m \u001b[38;5;66;03m# Use course name as the key and grade value as the value in the student's grades dictionary\u001b[39;00m\n\u001b[0;32m---> 13\u001b[0m student\u001b[38;5;241m.\u001b[39mgrades[course\u001b[38;5;241m.\u001b[39mname] \u001b[38;5;241m=\u001b[39m grade_value\n\u001b[1;32m     14\u001b[0m \u001b[38;5;28mprint\u001b[39m(\u001b[38;5;124mf\u001b[39m\u001b[38;5;124m\"\u001b[39m\u001b[38;5;132;01m{\u001b[39;00mstudent\u001b[38;5;241m.\u001b[39mname\u001b[38;5;132;01m}\u001b[39;00m\u001b[38;5;124m has receive a \u001b[39m\u001b[38;5;132;01m{\u001b[39;00mgrade_value\u001b[38;5;132;01m}\u001b[39;00m\u001b[38;5;124m grade in \u001b[39m\u001b[38;5;132;01m{\u001b[39;00mcourse\u001b[38;5;241m.\u001b[39mname\u001b[38;5;132;01m}\u001b[39;00m\u001b[38;5;124m.\u001b[39m\u001b[38;5;124m\"\u001b[39m)\n",
            "\u001b[0;31mAttributeError\u001b[0m: 'Student' object has no attribute 'grades'"
          ]
        }
      ],
      "source": [
        "class Grade:\n",
        "    def __init__(self, student, course, grade_value):\n",
        "        self.student = student  # The student for this grade\n",
        "        self.course = course    # The course for the grade\n",
        "        self.grade_value = grade_value  # The grade\n",
        "        self.add_grade(student, course, grade_value) # Add the grade to the student's grades\n",
        "\n",
        "    def add_grade(self, student, course, grade_value):\n",
        "        \"\"\"\n",
        "        Add grade to the student for a specific course\n",
        "        \"\"\"\n",
        "        # Use course name as the key and grade value as the value in the student's grades dictionary\n",
        "        student.grades[course.name] = grade_value\n",
        "        print(f\"{student.name} has receive a {grade_value} grade in {course.name}.\") \n",
        "\n",
        "    @staticmethod\n",
        "    def calculate_gpa(student):\n",
        "        \"\"\"\n",
        "        Calculates the GPA for a given student\n",
        "        \"\"\"\n",
        "        if student.grades:  # Check if the student has any grades\n",
        "            total_grades = sum(student.grades.values())  # Sum all the grades\n",
        "            gpa = total_grades / len(student.grades)  # Sum of grades/ number of classes\n",
        "            return gpa\n",
        "        else:\n",
        "            print(f\"{student.name} has no grades to calculate GPA.\")\n",
        "            return None\n",
        "\n",
        "grade1 = Grade(student1, mathematics, 85)  \n",
        "grade2 = Grade(student1, physics, 90)   "
      ]
    },
    {
      "cell_type": "markdown",
      "id": "76c565a9-dc30-464c-980d-d522cd5246f4",
      "metadata": {
        "editable": true,
        "id": "76c565a9-dc30-464c-980d-d522cd5246f4",
        "tags": []
      },
      "source": [
        "## That's all!"
      ]
    }
  ],
  "metadata": {
    "colab": {
      "provenance": []
    },
    "kernelspec": {
      "display_name": "Python 3 (ipykernel)",
      "language": "python",
      "name": "python3"
    },
    "language_info": {
      "codemirror_mode": {
        "name": "ipython",
        "version": 3
      },
      "file_extension": ".py",
      "mimetype": "text/x-python",
      "name": "python",
      "nbconvert_exporter": "python",
      "pygments_lexer": "ipython3",
      "version": "3.12.4"
    }
  },
  "nbformat": 4,
  "nbformat_minor": 5
}
