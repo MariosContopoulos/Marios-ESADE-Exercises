{
 "cells": [
  {
   "cell_type": "code",
   "execution_count": 25,
   "id": "b5896087-6b3d-4b7b-a632-e23cd4ff0498",
   "metadata": {},
   "outputs": [
    {
     "name": "stdout",
     "output_type": "stream",
     "text": [
      "The number 1 is 1\n",
      "The number 2 is 2\n",
      "The number 3 is Fizz\n",
      "The number 4 is 4\n",
      "The number 5 is Buzz\n",
      "The number 6 is Fizz\n",
      "The number 7 is 7\n",
      "The number 8 is 8\n",
      "The number 9 is Fizz\n",
      "The number 10 is Buzz\n",
      "The number 11 is 11\n",
      "The number 12 is Fizz\n",
      "The number 13 is 13\n",
      "The number 14 is 14\n",
      "The number 15 is FizzBuzz\n",
      "The number 16 is 16\n",
      "The number 17 is 17\n",
      "The number 18 is Fizz\n",
      "The number 19 is 19\n"
     ]
    }
   ],
   "source": [
    "def fizzbuzz(n):\n",
    "    \"\"\n",
    "    \"\"\n",
    "    if (n%3==0 and n%5==0):\n",
    "        return \"FizzBuzz\"\n",
    "    elif n%5==0:\n",
    "        return \"Buzz\"\n",
    "    elif n%3==0:\n",
    "        return \"Fizz\"\n",
    "    else:\n",
    "        return n\n",
    "\n",
    "for i in range(1,20):\n",
    "    check=fizzbuzz(i)\n",
    "    print(f\"The number {i} is {check}\")\n",
    "\n",
    "\n",
    "        \n",
    "    "
   ]
  },
  {
   "cell_type": "code",
   "execution_count": 5,
   "id": "dc4a842c-a933-4313-a9ce-d6a8f9fb8f91",
   "metadata": {},
   "outputs": [
    {
     "name": "stdout",
     "output_type": "stream",
     "text": [
      "New list of integers is: [3]\n"
     ]
    }
   ],
   "source": [
    "mix=[3,\"wow\",4.5,]\n",
    "integers= [i for i in mix if isinstance(i, int)]\n",
    "print(\"New list of integers is:\", integers)\n"
   ]
  },
  {
   "cell_type": "code",
   "execution_count": null,
   "id": "043b0564-1272-481b-9d2d-f5f285fc4156",
   "metadata": {},
   "outputs": [],
   "source": []
  },
  {
   "cell_type": "code",
   "execution_count": null,
   "id": "accd855c-ed88-4d39-b16a-689d6c8a6b23",
   "metadata": {},
   "outputs": [],
   "source": []
  }
 ],
 "metadata": {
  "kernelspec": {
   "display_name": "Python 3 (ipykernel)",
   "language": "python",
   "name": "python3"
  },
  "language_info": {
   "codemirror_mode": {
    "name": "ipython",
    "version": 3
   },
   "file_extension": ".py",
   "mimetype": "text/x-python",
   "name": "python",
   "nbconvert_exporter": "python",
   "pygments_lexer": "ipython3",
   "version": "3.12.4"
  }
 },
 "nbformat": 4,
 "nbformat_minor": 5
}
